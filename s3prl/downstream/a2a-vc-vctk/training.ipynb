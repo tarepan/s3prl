{
  "cells": [
    {
      "cell_type": "markdown",
      "metadata": {
        "id": "4oWm0zXecPh6"
      },
      "source": [
        "# Intra-lingual A2A VC with S3PRL; S3PRL-VC\n",
        "[![Generic badge](https://img.shields.io/badge/GitHub-s3plr-9cf.svg)][github]\n",
        "[![Open In Colab](https://colab.research.google.com/assets/colab-badge.svg)][notebook]\n",
        "\n",
        "Author: [tarepan]\n",
        "\n",
        "[github]:https://github.com/tarepan/s3prl\n",
        "[notebook]:https://colab.research.google.com/github/tarepan/s3prl/blob/master/s3prl/downstream/a2a-vc-vctk/training.ipynb\n",
        "[tarepan]:https://github.com/tarepan"
      ]
    },
    {
      "cell_type": "markdown",
      "metadata": {
        "id": "QFQivUIyZyYi"
      },
      "source": [
        "## Colab Check\n",
        "Check\n",
        "- Google Colaboratory runnning time\n",
        "- GPU type\n",
        "- Python version\n",
        "- CUDA version"
      ]
    },
    {
      "cell_type": "code",
      "execution_count": null,
      "metadata": {
        "id": "4cwyMoXOZ7e1"
      },
      "outputs": [],
      "source": [
        "!cat /proc/uptime | awk '{print $1 /60 /60 /24 \"days (\" $1 \"sec)\"}'\n",
        "!head -n 1 /proc/driver/nvidia/gpus/**/information\n",
        "!python --version\n",
        "!pip show torch | sed '2!d'\n",
        "!/usr/local/cuda/bin/nvcc --version | sed '4!d'"
      ]
    },
    {
      "cell_type": "markdown",
      "metadata": {
        "id": "K125Ein7VCwM"
      },
      "source": [
        "## Setup"
      ]
    },
    {
      "cell_type": "markdown",
      "metadata": {
        "id": "-wyVUJ9ram5l"
      },
      "source": [
        "Mount GoogleDrive"
      ]
    },
    {
      "cell_type": "code",
      "execution_count": null,
      "metadata": {
        "id": "Hj11_OhkamFs"
      },
      "outputs": [],
      "source": [
        "from google.colab import drive\n",
        "drive.mount('/content/gdrive')"
      ]
    },
    {
      "cell_type": "markdown",
      "metadata": {
        "id": "LJCLLQ_8cPiM"
      },
      "source": [
        "Clone the `tarepan/s3plr` repository and install dependencies"
      ]
    },
    {
      "cell_type": "code",
      "execution_count": null,
      "metadata": {
        "id": "wZ9fU-17Sdxb"
      },
      "outputs": [],
      "source": [
        "!git clone https://github.com/tarepan/s3prl.git\n",
        "\n",
        "%cd s3prl\n",
        "\n",
        "# !pip install \"torch==1.10.0\" -q      # Based on your PyTorch environment\n",
        "# !pip install \"torchaudio==0.10.0\" -q # Based on your PyTorch environment\n",
        "\n",
        "!apt-get install sox\n",
        "!pip install -e ./   # Repository itself\n",
        "# Need fairseq master (not latest stable version) & Patched Gambel-softmax\n",
        "!pip install -e \"git+https://github.com/tarepan/fairseq.git#egg=fairseq\"\n",
        "\n",
        "%cd ./s3prl/downstream/a2a-vc-vctk\n",
        "\n",
        "!pip install -r requirements.txt"
      ]
    },
    {
      "cell_type": "markdown",
      "metadata": {
        "id": "cWG-TG7FbLML"
      },
      "source": [
        "Data preparation"
      ]
    },
    {
      "cell_type": "code",
      "execution_count": null,
      "metadata": {
        "id": "q7LUhy3PbNJA"
      },
      "outputs": [],
      "source": [
        "# Get pre-trained HiFi-GAN checkpoint archive and extract contents\n",
        "!./vocoder_download.sh ./\n",
        "\n",
        "# Get upstream's private mirror\n",
        "!mkdir -p /root/.cache/torch/hub\n",
        "!cp -r /content/gdrive/MyDrive/ML_data/s3prl_cache /root/.cache/torch/hub"
      ]
    },
    {
      "cell_type": "markdown",
      "metadata": {
        "id": "0Tiu2YKD2tVd"
      },
      "source": [
        "## Preprocessing"
      ]
    },
    {
      "cell_type": "markdown",
      "metadata": {
        "id": "ptA8A-dhEgqZ"
      },
      "source": [
        "## Training"
      ]
    },
    {
      "cell_type": "markdown",
      "metadata": {
        "id": "g7ITg9-_b9Yd"
      },
      "source": [
        "Preprocessing is included in training scripts"
      ]
    },
    {
      "cell_type": "code",
      "execution_count": null,
      "metadata": {},
      "outputs": [],
      "source": [
        "# @./s3prl\n",
        "%cd ../..\n",
        "!mkdir -p result/downstream/a2a_vc_vctk_default_vq_wav2vec\n",
        "\n",
        "# For training resume\n",
        "# %cd ../..\n",
        "# !cp /content/gdrive/MyDrive/ML_results/S3PRL_VC/result_a2a_vc_vctk_default_vq_wav2vec.tar.gz \".\"\n",
        "# !tar -zxvf                                      result_a2a_vc_vctk_default_vq_wav2vec.tar.gz\n",
        "# %cd s3prl/s3prl\n",
        "\n",
        "# !cp /content/gdrive/MyDrive/ML_data/stats_VCTK.tar.gz \".\"\n",
        "# !tar -zxvf stats_VCTK.tar.gz\n",
        "\n",
        "## Copy checkpoint from storage\n",
        "# !cp /content/gdrive/MyDrive/ML_results/S3PRL_VC/states-XXXXX.ckpt result/downstream/a2a_vc_vctk_default_vq_wav2vec"
      ]
    },
    {
      "cell_type": "code",
      "execution_count": null,
      "metadata": {
        "id": "STcHETKK34nu"
      },
      "outputs": [],
      "source": [
        "# Training\n",
        "!python run_downstream.py \\\n",
        "    -m       train \\\n",
        "    --config downstream/a2a-vc-vctk/config_ar_taco2.yaml \\\n",
        "    -p       result/downstream/a2a_vc_vctk_default_vq_wav2vec \\\n",
        "    -u       vq_wav2vec \\\n",
        "    -d       a2a-vc-vctk \\\n",
        "#    -e       result/downstream/a2a_vc_vctk_default_vq_wav2vec/states-50000.ckpt \\\n",
        "\n",
        "# Copy checkpoints\n",
        "!tar \\\n",
        "    -zcvf result_a2a_vc_vctk_uni_wav2vec2_q_causal_large_ll60k.tar.gz \\\n",
        "    result/downstream/a2a_vc_vctk_uni_wav2vec2_q_causal_large_ll60k\n",
        "!cp \\\n",
        "        ./result_a2a_vc_vctk_uni_wav2vec2_q_causal_large_ll60k.tar.gz \\\n",
        "    /content/gdrive/MyDrive/ML_results/S3PRL_VC"
      ]
    },
    {
      "cell_type": "markdown",
      "metadata": {
        "id": "RoG_q8lEdrHB"
      },
      "source": [
        "## Evaluation"
      ]
    },
    {
      "cell_type": "markdown",
      "metadata": {
        "id": "SDHR5EIAdwAe"
      },
      "source": [
        "Synthesize waveforms from already generated spectrograms and objectively evaluate them."
      ]
    },
    {
      "cell_type": "code",
      "execution_count": null,
      "metadata": {
        "id": "6oDbCYcm8y3E"
      },
      "outputs": [],
      "source": [
        "# Waveforms will be properly synthesized and saved, but objective evaluation will failed.\n",
        "!./downstream/a2a-vc-vctk/decode.sh ./downstream/a2a-vc-vctk/hifigan_vctk result/downstream/a2a_vc_vctk_default_vq_wav2vec/50001"
      ]
    },
    {
      "cell_type": "code",
      "execution_count": null,
      "metadata": {
        "id": "5Tzv4AhWBPFW"
      },
      "outputs": [],
      "source": [
        "# Only evaluation (not work now)\n",
        "# !python downstream/a2a-vc-vctk/evaluate.py --wavdir ./result/downstream/a2a_vc_vctk_default_vq_wav2vec/50001/hifigan_wav --samples 1 --task task1  --data_root ./downstream/a2a-vc-vctk/data"
      ]
    },
    {
      "cell_type": "code",
      "execution_count": null,
      "metadata": {
        "id": "FKIasW5cTqhl"
      },
      "outputs": [],
      "source": [
        "# # Launch TensorBoard\n",
        "# %load_ext tensorboard\n",
        "# %tensorboard --logdir gdrive/MyDrive/ML_results/S3PRL_VC"
      ]
    },
    {
      "cell_type": "code",
      "execution_count": null,
      "metadata": {
        "id": "0O2DDaFlcPiX"
      },
      "outputs": [],
      "source": [
        "# # Usage stat\n",
        "# ## GPU\n",
        "# !nvidia-smi -l 3\n",
        "# ## CPU\n",
        "# !vmstat 5\n",
        "# !top"
      ]
    }
  ],
  "metadata": {
    "accelerator": "GPU",
    "colab": {
      "collapsed_sections": [],
      "machine_shape": "hm",
      "name": "training.ipynb",
      "private_outputs": true,
      "provenance": []
    },
    "kernelspec": {
      "display_name": "Python 3",
      "name": "python3"
    }
  },
  "nbformat": 4,
  "nbformat_minor": 0
}
