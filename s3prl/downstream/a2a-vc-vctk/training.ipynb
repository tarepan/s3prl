{
  "nbformat": 4,
  "nbformat_minor": 0,
  "metadata": {
    "accelerator": "GPU",
    "colab": {
      "name": "training.ipynb",
      "private_outputs": true,
      "provenance": [],
      "collapsed_sections": [],
      "machine_shape": "hm"
    },
    "kernelspec": {
      "display_name": "Python 3",
      "name": "python3"
    }
  },
  "cells": [
    {
      "cell_type": "markdown",
      "metadata": {
        "id": "4oWm0zXecPh6"
      },
      "source": [
        "# Intra-lingual A2A VC with S3PRL; S3PRL-VC\n",
        "[![Generic badge](https://img.shields.io/badge/GitHub-s3plr-9cf.svg)][github]\n",
        "[![Open In Colab](https://colab.research.google.com/assets/colab-badge.svg)][notebook]\n",
        "\n",
        "Author: [tarepan]\n",
        "\n",
        "[github]:https://github.com/tarepan/s3prl\n",
        "[notebook]:https://colab.research.google.com/github/tarepan/s3prl/blob/master/s3prl/downstream/a2a-vc-vctk/training.ipynb\n",
        "[tarepan]:https://github.com/tarepan"
      ]
    },
    {
      "cell_type": "markdown",
      "metadata": {
        "id": "QFQivUIyZyYi"
      },
      "source": [
        "## Colab Check\n",
        "Check\n",
        "- Google Colaboratory runnning time\n",
        "- GPU type\n",
        "- Python version\n",
        "- CUDA version"
      ]
    },
    {
      "cell_type": "code",
      "metadata": {
        "id": "4cwyMoXOZ7e1"
      },
      "source": [
        "!cat /proc/uptime | awk '{print $1 /60 /60 /24 \"days (\" $1 \"sec)\"}'\n",
        "!head -n 1 /proc/driver/nvidia/gpus/**/information\n",
        "!python --version\n",
        "!pip show torch | sed '2!d'\n",
        "!/usr/local/cuda/bin/nvcc --version | sed '4!d'"
      ],
      "execution_count": null,
      "outputs": []
    },
    {
      "cell_type": "markdown",
      "metadata": {
        "id": "K125Ein7VCwM"
      },
      "source": [
        "## Setup"
      ]
    },
    {
      "cell_type": "markdown",
      "metadata": {
        "id": "-wyVUJ9ram5l"
      },
      "source": [
        "Mount GoogleDrive"
      ]
    },
    {
      "cell_type": "code",
      "metadata": {
        "id": "Hj11_OhkamFs"
      },
      "source": [
        "from google.colab import drive\n",
        "drive.mount('/content/gdrive')"
      ],
      "execution_count": null,
      "outputs": []
    },
    {
      "cell_type": "markdown",
      "metadata": {
        "id": "LJCLLQ_8cPiM"
      },
      "source": [
        "Clone the `tarepan/s3plr` repository and install dependencies"
      ]
    },
    {
      "cell_type": "code",
      "metadata": {
        "id": "wZ9fU-17Sdxb"
      },
      "source": [
        "!git clone https://github.com/tarepan/s3prl.git\n",
        "\n",
        "%cd s3prl\n",
        "\n",
        "# !pip install \"torch==1.10.0\" -q      # Based on your PyTorch environment\n",
        "# !pip install \"torchaudio==0.10.0\" -q # Based on your PyTorch environment\n",
        "\n",
        "!apt-get install sox\n",
        "!pip install -e ./   # Repository itself\n",
        "!pip install fairseq\n",
        "\n",
        "%cd ./s3prl/downstream/a2a-vc-vctk\n",
        "\n",
        "!pip install -r requirements.txt"
      ],
      "execution_count": null,
      "outputs": []
    },
    {
      "cell_type": "markdown",
      "metadata": {
        "id": "cWG-TG7FbLML"
      },
      "source": [
        "Data preparation"
      ]
    },
    {
      "cell_type": "code",
      "metadata": {
        "id": "q7LUhy3PbNJA"
      },
      "source": [
        "%cd data\n",
        "\n",
        "# Clone VCC2020 repository and extract contents\n",
        "!./vcc2020_download.sh vcc2020/\n",
        "\n",
        "# Get VCTK-Corpus and extract contents\n",
        "# !./vctk_download.sh ./ # Replaced because we have VCTK mirror archive\n",
        "!cp /content/gdrive/MyDrive/ML_data/corpuses/VCTK/ver0_92/archive/VCTK-Corpus.tar.gz \".\"\n",
        "!tar xzf ./VCTK-Corpus.tar.gz\n",
        "!rm ./VCTK-Corpus.tar.gz\n",
        "%cd ../\n",
        "\n",
        "# Get pre-trained HiFi-GAN checkpoint archive and extract contents\n",
        "!./vocoder_download.sh ./"
      ],
      "execution_count": null,
      "outputs": []
    },
    {
      "cell_type": "markdown",
      "metadata": {
        "id": "0Tiu2YKD2tVd"
      },
      "source": [
        "## Preprocessing"
      ]
    },
    {
      "cell_type": "markdown",
      "metadata": {
        "id": "ptA8A-dhEgqZ"
      },
      "source": [
        "## Training"
      ]
    },
    {
      "cell_type": "markdown",
      "metadata": {
        "id": "g7ITg9-_b9Yd"
      },
      "source": [
        "Preprocessing is included in training scripts"
      ]
    },
    {
      "cell_type": "code",
      "metadata": {
        "id": "STcHETKK34nu"
      },
      "source": [
        "# @./s3prl\n",
        "%cd ../..\n",
        "!mkdir -p result/downstream/a2a_vc_vctk_default_vq_wav2vec\n",
        "\n",
        "# For training resume\n",
        "\n",
        "## Copy Preprocessed embeddings from storage\n",
        "# !cp /content/gdrive/MyDrive/ML_data/embedding_VCTK.tar.gz \".\"\n",
        "# !tar -zxvf embedding_VCTK.tar.gz\n",
        "# !cp /content/gdrive/MyDrive/ML_data/stats_VCTK.tar.gz \".\"\n",
        "# !tar -zxvf stats_VCTK.tar.gz\n",
        "\n",
        "## Copy checkpoint from storage\n",
        "# !cp /content/gdrive/MyDrive/ML_results/S3PRL_VC/states-XXXXX.ckpt result/downstream/a2a_vc_vctk_default_vq_wav2vec\n",
        "\n",
        "\n",
        "# Training\n",
        "\n",
        "## Replaced because this script write logs to file, not console\n",
        "# !./downstream/a2a-vc-vctk/vc_train.sh vq_wav2vec downstream/a2a-vc-vctk/config_ar_taco2.yaml default\n",
        "## From scratch\n",
        "!python run_downstream.py -m train --config downstream/a2a-vc-vctk/config_ar_taco2.yaml -p result/downstream/a2a_vc_vctk_default_vq_wav2vec -u vq_wav2vec -d a2a-vc-vctk\n",
        "## From checkpoint\n",
        "# !python run_downstream.py -m train --config downstream/a2a-vc-vctk/config_ar_taco2.yaml -p result/downstream/a2a_vc_vctk_default_vq_wav2vec -u vq_wav2vec -d a2a-vc-vctk -e result/downstream/a2a_vc_vctk_default_vq_wav2vec/states-50000.ckpt\n",
        "\n",
        "# Copy checkpoints\n",
        "!cp result/downstream/a2a_vc_vctk_default_vq_wav2vec/states-XXXXX.ckpt /content/gdrive/MyDrive/ML_results/S3PRL_VC"
      ],
      "execution_count": null,
      "outputs": []
    },
    {
      "cell_type": "markdown",
      "metadata": {
        "id": "RoG_q8lEdrHB"
      },
      "source": [
        "## Evaluation"
      ]
    },
    {
      "cell_type": "markdown",
      "metadata": {
        "id": "SDHR5EIAdwAe"
      },
      "source": [
        "Synthesize waveforms from already generated spectrograms and objectively evaluate them."
      ]
    },
    {
      "cell_type": "code",
      "metadata": {
        "id": "6oDbCYcm8y3E"
      },
      "source": [
        "# Waveforms will be properly synthesized and saved, but objective evaluation will failed.\n",
        "!./downstream/a2a-vc-vctk/decode.sh ./downstream/a2a-vc-vctk/hifigan_vctk result/downstream/a2a_vc_vctk_default_vq_wav2vec/50001"
      ],
      "execution_count": null,
      "outputs": []
    },
    {
      "cell_type": "code",
      "metadata": {
        "id": "5Tzv4AhWBPFW"
      },
      "source": [
        "# Only evaluation (not work now)\n",
        "# !python downstream/a2a-vc-vctk/evaluate.py --wavdir ./result/downstream/a2a_vc_vctk_default_vq_wav2vec/50001/hifigan_wav --samples 1 --task task1  --data_root ./downstream/a2a-vc-vctk/data"
      ],
      "execution_count": null,
      "outputs": []
    },
    {
      "cell_type": "code",
      "metadata": {
        "id": "FKIasW5cTqhl"
      },
      "source": [
        "# # Launch TensorBoard\n",
        "# %load_ext tensorboard\n",
        "# %tensorboard --logdir gdrive/MyDrive/ML_results/S3PRL_VC"
      ],
      "execution_count": null,
      "outputs": []
    },
    {
      "cell_type": "code",
      "metadata": {
        "id": "0O2DDaFlcPiX"
      },
      "source": [
        "# # Usage stat\n",
        "# ## GPU\n",
        "# !nvidia-smi -l 3\n",
        "# ## CPU\n",
        "# !vmstat 5\n",
        "# !top"
      ],
      "execution_count": null,
      "outputs": []
    }
  ]
}