{
  "nbformat": 4,
  "nbformat_minor": 0,
  "metadata": {
    "accelerator": "GPU",
    "colab": {
      "name": "training.ipynb",
      "private_outputs": true,
      "provenance": [],
      "collapsed_sections": [],
      "machine_shape": "hm"
    },
    "kernelspec": {
      "display_name": "Python 3",
      "name": "python3"
    }
  },
  "cells": [
    {
      "cell_type": "markdown",
      "metadata": {
        "id": "4oWm0zXecPh6"
      },
      "source": [
        "# Intra-lingual A2A VC with S3PRL; S3PRL-VC\n",
        "[![Generic badge](https://img.shields.io/badge/GitHub-s3plr-9cf.svg)][github]\n",
        "[![Open In Colab](https://colab.research.google.com/assets/colab-badge.svg)][notebook]\n",
        "\n",
        "Author: [tarepan]\n",
        "\n",
        "[github]:https://github.com/tarepan/s3prl\n",
        "[notebook]:https://colab.research.google.com/github/tarepan/s3prl/blob/master/s3prl/downstream/a2a-vc-vctk/training.ipynb\n",
        "[tarepan]:https://github.com/tarepan"
      ]
    },
    {
      "cell_type": "markdown",
      "metadata": {
        "id": "QFQivUIyZyYi"
      },
      "source": [
        "## Colab Check\n",
        "Check\n",
        "- Google Colaboratory runnning time\n",
        "- GPU type\n",
        "- Python version\n",
        "- CUDA version"
      ]
    },
    {
      "cell_type": "code",
      "metadata": {
        "id": "4cwyMoXOZ7e1"
      },
      "source": [
        "!cat /proc/uptime | awk '{print $1 /60 /60 /24 \"days (\" $1 \"sec)\"}'\n",
        "!head -n 1 /proc/driver/nvidia/gpus/**/information\n",
        "!python --version\n",
        "!pip show torch | sed '2!d'\n",
        "!/usr/local/cuda/bin/nvcc --version | sed '4!d'"
      ],
      "execution_count": null,
      "outputs": []
    },
    {
      "cell_type": "markdown",
      "metadata": {
        "id": "K125Ein7VCwM"
      },
      "source": [
        "## Setup"
      ]
    },
    {
      "cell_type": "markdown",
      "metadata": {
        "id": "LJCLLQ_8cPiM"
      },
      "source": [
        "Install the package from `tarepan/s3plr` private repository"
      ]
    },
    {
      "cell_type": "code",
      "metadata": {
        "id": "wZ9fU-17Sdxb"
      },
      "source": [
        "# GoogleDrive\n",
        "from google.colab import drive\n",
        "drive.mount('/content/gdrive')\n",
        "\n",
        "# Dedicated dependencies install\n",
        "# !pip install \"torch==1.10.0\" -q      # Based on your PyTorch environment\n",
        "# !pip install \"torchaudio==0.10.0\" -q # Based on your PyTorch environment\n",
        "\n",
        "# repository install\n",
        "!git clone https://github.com/tarepan/s3prl.git\n",
        "%cd s3prl"
      ],
      "execution_count": null,
      "outputs": []
    },
    {
      "cell_type": "markdown",
      "metadata": {
        "id": "0Tiu2YKD2tVd"
      },
      "source": [
        "## Preprocessing"
      ]
    },
    {
      "cell_type": "code",
      "metadata": {
        "id": "BczfKIJM2s16"
      },
      "source": [
        "!apt-get install sox\n",
        "!pip install -e ./\n",
        "!pip install fairseq\n",
        "\n",
        "%cd ./s3prl/downstream/a2a-vc-vctk\n",
        "\n",
        "!pip install -r requirements.txt\n",
        "\n",
        "%cd data\n",
        "# Clone VCC2020 repository and extract contents\n",
        "!./vcc2020_download.sh vcc2020/\n",
        "# Expand VCTK-Corpus.tar.gz on `/s3prl/downstream/a2a-vc-vctk/data/`, so there is dataset directory `/s3prl/downstream/a2a-vc-vctk/data/VCTK-Corpus`\n",
        "# !./vctk_download.sh ./\n",
        "!cp /content/gdrive/MyDrive/ML_data/corpuses/VCTK/ver0_92/archive/VCTK-Corpus.tar.gz \".\"\n",
        "!tar xzf ./VCTK-Corpus.tar.gz\n",
        "!rm ./VCTK-Corpus.tar.gz\n",
        "%cd ../\n",
        "\n",
        "# Acquire pre-trained HiFi-GAN checkpoint file in gdrive, then expand on /s3prl/downstream/a2a-vc-vctk/hifigan_vctk/\n",
        "!./vocoder_download.sh ./"
      ],
      "execution_count": null,
      "outputs": []
    },
    {
      "cell_type": "code",
      "metadata": {
        "id": "Ev9MQuLUZXyd"
      },
      "source": [
        "# ./vcc2020_download.sh \n",
        "\n",
        "# db=/s3prl/downstream/a2a-vc-vctk/data/vcc2020/\n",
        "\n",
        "# srcspks=(\n",
        "#     \"SEF1\" \"SEF2\" \"SEM1\" \"SEM2\"\n",
        "# )\n",
        "\n",
        "# # intra-lingual\n",
        "# trgspks_task1=(\n",
        "#     \"TEF1\" \"TEF2\" \"TEM1\" \"TEM2\"\n",
        "# )\n",
        "\n",
        "# # cross-lingual\n",
        "# trgspks_task2=(\n",
        "#     \"TFF1\" \"TFM1\" \"TGF1\" \"TGM1\" \"TMF1\" \"TMM1\"\n",
        "# )\n",
        "\n",
        "# # clone `https://github.com/nii-yamagishilab/VCC2020-database.git` on `/s3prl/downstream/a2a-vc-vctk/data/vcc2020/`\n",
        "# # all zip all zip file\n",
        "\n",
        "# /s3prl/downstream/a2a-vc-vctk/data/vcc2020/VCC2020-database\n",
        "\n",
        "# # mv vcc2020_database_evaluation/${srcspk}/*.wav source/${srcspk}/\n",
        "# # mv vcc2020_database_groundtruth/${trgspk_task1}/*.wav target_task1/${trgspk}/\n",
        "# # mv vcc2020_database_groundtruth/${trgspk_task2}/*.wav target_task2/${trgspk}/\n",
        "\n",
        "# # /\n",
        "# #   source/\n",
        "# #     ${srcspk}/\n",
        "# #       *.wav\n",
        "# #   target_task1/\n",
        "# #     ${trgspk_task1}/\n",
        "# #       *.wav\n",
        "# #   target_task2/\n",
        "# #     ${trgspk_task2}/\n",
        "# #       *.wav\n",
        "\n",
        "# # download dataset\n",
        "# cwd=`pwd`\n",
        "\n",
        "#     # move transcriptions\n",
        "#     mkdir prompts\n",
        "#     cat vcc2020_database_transcriptions/transcriptions_training/vcc2020_database_training_Eng_transcriptions.txt \\\n",
        "#         vcc2020_database_transcriptions/transcriptions_evaluation/vcc2020_database_evaluation_transcriptions.txt > prompts/Eng_transcriptions.txt\n",
        "#     mv vcc2020_database_transcriptions/transcriptions_training/vcc2020_database_training_Fin_transcriptions.txt prompts/Fin_transcriptions.txt\n",
        "#     mv vcc2020_database_transcriptions/transcriptions_training/vcc2020_database_training_Ger_transcriptions.txt prompts/Ger_transcriptions.txt\n",
        "#     mv vcc2020_database_transcriptions/transcriptions_training/vcc2020_database_training_Man_transcriptions.txt prompts/Man_transcriptions.txt\n",
        "#     rm -rf vcc2020_database_transcriptions"
      ],
      "execution_count": null,
      "outputs": []
    },
    {
      "cell_type": "markdown",
      "metadata": {
        "id": "ptA8A-dhEgqZ"
      },
      "source": [
        "## Training"
      ]
    },
    {
      "cell_type": "code",
      "metadata": {
        "id": "STcHETKK34nu"
      },
      "source": [
        "# @./s3prl\n",
        "%cd ../..\n",
        "\n",
        "# Copy Preprocessed embeddings from storage\n",
        "!cp /content/gdrive/MyDrive/ML_data/embedding_VCTK.tar.gz \".\"\n",
        "!tar -zxvf embedding_VCTK.tar.gz\n",
        "!cp /content/gdrive/MyDrive/ML_data/stats_VCTK.tar.gz \".\"\n",
        "!tar -zxvf stats_VCTK.tar.gz\n",
        "\n",
        "# Upstream is pretrained by s3prl\n",
        "# !./downstream/a2a-vc-vctk/vc_train.sh vq_wav2vec downstream/a2a-vc-vctk/config_ar_taco2.yaml default\n",
        "\n",
        "# stdout (Not log file) \n",
        "!mkdir -p result/downstream/a2a_vc_vctk_default_vq_wav2vec\n",
        "!python run_downstream.py -m train --config downstream/a2a-vc-vctk/config_ar_taco2.yaml -p result/downstream/a2a_vc_vctk_default_vq_wav2vec -u vq_wav2vec -d a2a-vc-vctk"
      ],
      "execution_count": null,
      "outputs": []
    },
    {
      "cell_type": "code",
      "metadata": {
        "id": "mhFSmu1bb_9c"
      },
      "source": [
        "# # Copy checkpoint\n",
        "# !cp result/downstream/a2a_vc_vctk_default_vq_wav2vec/states-15000.ckpt /content/gdrive/MyDrive/ML_results/S3PRL_VC\n",
        "# !ls /content/gdrive/MyDrive/ML_results/S3PRL_VC"
      ],
      "execution_count": null,
      "outputs": []
    },
    {
      "cell_type": "code",
      "metadata": {
        "id": "FKIasW5cTqhl"
      },
      "source": [
        "# # Launch TensorBoard\n",
        "# %load_ext tensorboard\n",
        "# %tensorboard --logdir gdrive/MyDrive/ML_results/S3PRL_VC"
      ],
      "execution_count": null,
      "outputs": []
    },
    {
      "cell_type": "code",
      "metadata": {
        "id": "0O2DDaFlcPiX"
      },
      "source": [
        "# # Usage stat\n",
        "# ## GPU\n",
        "# !nvidia-smi -l 3\n",
        "# ## CPU\n",
        "# !vmstat 5\n",
        "# !top"
      ],
      "execution_count": null,
      "outputs": []
    }
  ]
}